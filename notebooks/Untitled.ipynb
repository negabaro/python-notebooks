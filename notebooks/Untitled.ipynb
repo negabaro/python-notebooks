{
 "cells": [
  {
   "cell_type": "code",
   "execution_count": 2,
   "metadata": {
    "collapsed": false
   },
   "outputs": [
    {
     "name": "stdout",
     "output_type": "stream",
     "text": [
      "5\n"
     ]
    }
   ],
   "source": [
    "import tensorflow as tf\n",
    "const1 = tf.constant(2)\n",
    "const2 = tf.constant(3)\n",
    "add_op = tf.add(const1,const2)\n",
    "\n",
    "with tf.Session() as sess:\n",
    "    result = sess.run(add_op)\n",
    "    print(result)"
   ]
  },
  {
   "cell_type": "code",
   "execution_count": 3,
   "metadata": {
    "collapsed": false
   },
   "outputs": [
    {
     "ename": "AttributeError",
     "evalue": "module 'networkx' has no attribute 'to_agraph'",
     "output_type": "error",
     "traceback": [
      "\u001b[1;31m\u001b[0m",
      "\u001b[1;31mAttributeError\u001b[0mTraceback (most recent call last)",
      "\u001b[1;32m<ipython-input-3-1af15921dfb8>\u001b[0m in \u001b[0;36m<module>\u001b[1;34m()\u001b[0m\n\u001b[0;32m      6\u001b[0m \u001b[1;33m\u001b[0m\u001b[0m\n\u001b[0;32m      7\u001b[0m \u001b[1;31m#これをagraphクラス（PyGraphviz）に変換\u001b[0m\u001b[1;33m\u001b[0m\u001b[1;33m\u001b[0m\u001b[0m\n\u001b[1;32m----> 8\u001b[1;33m \u001b[0mg\u001b[0m \u001b[1;33m=\u001b[0m \u001b[0mnx\u001b[0m\u001b[1;33m.\u001b[0m\u001b[0mto_agraph\u001b[0m\u001b[1;33m(\u001b[0m\u001b[0mh\u001b[0m\u001b[1;33m)\u001b[0m\u001b[1;33m\u001b[0m\u001b[0m\n\u001b[0m\u001b[0;32m      9\u001b[0m \u001b[1;33m\u001b[0m\u001b[0m\n\u001b[0;32m     10\u001b[0m \u001b[1;31m#file.pdfという名前で出力，レイアウトはcircoを使う\u001b[0m\u001b[1;33m\u001b[0m\u001b[1;33m\u001b[0m\u001b[0m\n",
      "\u001b[1;31mAttributeError\u001b[0m: module 'networkx' has no attribute 'to_agraph'"
     ]
    }
   ],
   "source": [
    "import pygraphviz as pgv\n",
    "import networkx as nx\n",
    "\n",
    "#普通にnetworkxのグラフを作成\n",
    "h = nx.newman_watts_strogatz_graph(10,3,0.4)\n",
    "\n",
    "#これをagraphクラス（PyGraphviz）に変換\n",
    "g = nx.to_agraph(h)\n",
    "\n",
    "#file.pdfという名前で出力，レイアウトはcircoを使う\n",
    "g.draw('file.pdf',prog='circo')"
   ]
  },
  {
   "cell_type": "code",
   "execution_count": 4,
   "metadata": {
    "collapsed": false
   },
   "outputs": [
    {
     "name": "stdout",
     "output_type": "stream",
     "text": [
      "Couldn't import dot_parser, loading of dot files will not be possible.\n"
     ]
    }
   ],
   "source": [
    "try:\n",
    "    # pydot-ng is a fork of pydot that is better maintained\n",
    "    import pydot_ng as pydot\n",
    "except ImportError:\n",
    "    # fall back on pydot if necessary\n",
    "    import pydot\n",
    "if not pydot.find_graphviz():\n",
    "    raise RuntimeError('Failed to import pydot. You must install pydot'\n",
    "                       ' and graphviz for `pydotprint` to work.')"
   ]
  },
  {
   "cell_type": "code",
   "execution_count": 5,
   "metadata": {
    "collapsed": false
   },
   "outputs": [
    {
     "ename": "SyntaxError",
     "evalue": "invalid syntax (<ipython-input-5-03a6e980095e>, line 1)",
     "output_type": "error",
     "traceback": [
      "\u001b[1;36m  File \u001b[1;32m\"<ipython-input-5-03a6e980095e>\"\u001b[1;36m, line \u001b[1;32m1\u001b[0m\n\u001b[1;33m    echo \"digraph G {Hello->World}\" | dot -Tpng\u001b[0m\n\u001b[1;37m                                  ^\u001b[0m\n\u001b[1;31mSyntaxError\u001b[0m\u001b[1;31m:\u001b[0m invalid syntax\n"
     ]
    }
   ],
   "source": [
    "echo \"digraph G {Hello->World}\" | dot -Tpng"
   ]
  },
  {
   "cell_type": "code",
   "execution_count": 8,
   "metadata": {
    "collapsed": true
   },
   "outputs": [],
   "source": [
    "import pygraphviz as pgv\n",
    "d={'1': {'2': None}, '2': {'1': None, '3': None}, '3': {'2': None}}\n",
    "A=pgv.AGraph(d)\n",
    "A.layout(prog='dot')\n",
    "A.draw('pyg.png')"
   ]
  },
  {
   "cell_type": "code",
   "execution_count": null,
   "metadata": {
    "collapsed": true
   },
   "outputs": [],
   "source": []
  }
 ],
 "metadata": {
  "kernelspec": {
   "display_name": "Python 3",
   "language": "python",
   "name": "python3"
  },
  "language_info": {
   "codemirror_mode": {
    "name": "ipython",
    "version": 3
   },
   "file_extension": ".py",
   "mimetype": "text/x-python",
   "name": "python",
   "nbconvert_exporter": "python",
   "pygments_lexer": "ipython3",
   "version": "3.5.1"
  },
  "widgets": {
   "state": {},
   "version": "1.1.2"
  }
 },
 "nbformat": 4,
 "nbformat_minor": 0
}
