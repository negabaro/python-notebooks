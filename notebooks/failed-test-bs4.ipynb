{
 "cells": [
  {
   "cell_type": "code",
   "execution_count": 3,
   "metadata": {
    "collapsed": false
   },
   "outputs": [],
   "source": [
    "from urllib.request import urlopen\n",
    "from bs4 import BeautifulSoup"
   ]
  },
  {
   "cell_type": "code",
   "execution_count": 13,
   "metadata": {
    "collapsed": true
   },
   "outputs": [],
   "source": [
    "html = urlopen(\"https://ja.wikipedia.org/wiki/%E3%82%B7%E3%83%A7%E3%83%BC%E3%82%B7%E3%83%A3%E3%83%B3%E3%82%AF%E3%81%AE%E7%A9%BA%E3%81%AB#.E3.82.B9.E3.83.88.E3.83.BC.E3.83.AA.E3.83.BC\")"
   ]
  },
  {
   "cell_type": "code",
   "execution_count": 14,
   "metadata": {
    "collapsed": true
   },
   "outputs": [],
   "source": [
    "bsObj = BeautifulSoup(html, \"html.parser\")"
   ]
  },
  {
   "cell_type": "code",
   "execution_count": 24,
   "metadata": {
    "collapsed": false
   },
   "outputs": [],
   "source": [
    "story = bsObj.find(\n",
    "    \"span\",\n",
    "    class_=\"mw-headline\",\n",
    "    id=\".E3.82.B9.E3.83.88.E3.83.BC.E3.83.AA.E3.83.BC\")\n",
    "\n",
    "\n",
    "\n"
   ]
  },
  {
   "cell_type": "code",
   "execution_count": 16,
   "metadata": {
    "collapsed": true
   },
   "outputs": [],
   "source": [
    "cast = bsObj.find(\n",
    "    \"span\",\n",
    "    class_=\"mw-headline\",\n",
    "    id=\".E3.82.B9.E3.82.BF.E3.83.83.E3.83.95\")"
   ]
  },
  {
   "cell_type": "code",
   "execution_count": 17,
   "metadata": {
    "collapsed": false
   },
   "outputs": [
    {
     "name": "stdout",
     "output_type": "stream",
     "text": [
      "<span class=\"mw-headline\" id=\".E3.82.B9.E3.82.BF.E3.83.83.E3.83.95\">スタッフ</span>\n"
     ]
    }
   ],
   "source": [
    "print (cast)"
   ]
  },
  {
   "cell_type": "code",
   "execution_count": 25,
   "metadata": {
    "collapsed": false
   },
   "outputs": [
    {
     "name": "stdout",
     "output_type": "stream",
     "text": [
      "<span class=\"mw-headline\" id=\".E3.82.B9.E3.83.88.E3.83.BC.E3.83.AA.E3.83.BC\">ストーリー</span>\n"
     ]
    }
   ],
   "source": [
    "print (story)"
   ]
  },
  {
   "cell_type": "code",
   "execution_count": 26,
   "metadata": {
    "collapsed": false
   },
   "outputs": [],
   "source": [
    "data = story.find_next_siblings()"
   ]
  },
  {
   "cell_type": "code",
   "execution_count": 15,
   "metadata": {
    "collapsed": false
   },
   "outputs": [],
   "source": [
    "#data = data[:data.index(cast)]\n"
   ]
  },
  {
   "cell_type": "code",
   "execution_count": 27,
   "metadata": {
    "collapsed": false
   },
   "outputs": [
    {
     "name": "stdout",
     "output_type": "stream",
     "text": [
      "[<span class=\"mw-editsection\"><span class=\"mw-editsection-bracket\">[</span><a href=\"/w/index.php?title=%E3%82%B7%E3%83%A7%E3%83%BC%E3%82%B7%E3%83%A3%E3%83%B3%E3%82%AF%E3%81%AE%E7%A9%BA%E3%81%AB&amp;action=edit&amp;section=1\" title=\"節を編集: ストーリー\">編集</a><span class=\"mw-editsection-bracket\">]</span></span>]\n"
     ]
    }
   ],
   "source": [
    "#data = '\\n'.join(map(str, data))\n",
    "\n",
    "print(data)"
   ]
  },
  {
   "cell_type": "code",
   "execution_count": 11,
   "metadata": {
    "collapsed": false
   },
   "outputs": [],
   "source": [
    "data2 = story.find_next_siblings(\"p\")"
   ]
  },
  {
   "cell_type": "code",
   "execution_count": 12,
   "metadata": {
    "collapsed": false
   },
   "outputs": [
    {
     "name": "stdout",
     "output_type": "stream",
     "text": [
      "[]\n"
     ]
    }
   ],
   "source": [
    "print(data2)"
   ]
  },
  {
   "cell_type": "code",
   "execution_count": 28,
   "metadata": {
    "collapsed": true
   },
   "outputs": [],
   "source": [
    "start, end = bsObj.find_all().index(story), bsObj.find_all().index(cast)"
   ]
  },
  {
   "cell_type": "code",
   "execution_count": 29,
   "metadata": {
    "collapsed": false
   },
   "outputs": [
    {
     "name": "stdout",
     "output_type": "stream",
     "text": [
      "249\n"
     ]
    }
   ],
   "source": [
    "print (start)"
   ]
  },
  {
   "cell_type": "code",
   "execution_count": 30,
   "metadata": {
    "collapsed": false
   },
   "outputs": [
    {
     "name": "stdout",
     "output_type": "stream",
     "text": [
      "368\n"
     ]
    }
   ],
   "source": [
    "print (end)"
   ]
  },
  {
   "cell_type": "code",
   "execution_count": 31,
   "metadata": {
    "collapsed": true
   },
   "outputs": [],
   "source": [
    "data = bsObj.find_all()[start + 1:end]"
   ]
  },
  {
   "cell_type": "code",
   "execution_count": 34,
   "metadata": {
    "collapsed": false
   },
   "outputs": [
    {
     "name": "stdout",
     "output_type": "stream",
     "text": [
      "<span class=\"mw-editsection\"><span class=\"mw-editsection-bracket\">[</span><a href=\"/w/index.php?title=%E3%82%B7%E3%83%A7%E3%83%BC%E3%82%B7%E3%83%A3%E3%83%B3%E3%82%AF%E3%81%AE%E7%A9%BA%E3%81%AB&amp;action=edit&amp;section=1\" title=\"節を編集: ストーリー\">編集</a><span class=\"mw-editsection-bracket\">]</span></span>\n",
      "<span class=\"mw-editsection-bracket\">[</span>\n",
      "<a href=\"/w/index.php?title=%E3%82%B7%E3%83%A7%E3%83%BC%E3%82%B7%E3%83%A3%E3%83%B3%E3%82%AF%E3%81%AE%E7%A9%BA%E3%81%AB&amp;action=edit&amp;section=1\" title=\"節を編集: ストーリー\">編集</a>\n",
      "<span class=\"mw-editsection-bracket\">]</span>\n",
      "<p>1947年、若くして銀行副頭取を務める<b>アンドリュー・デュフレーン （アンディ）</b>は、妻とその愛人を射殺した罪に問われる。無実を訴えるも終身刑の判決が下り、劣悪なショーシャンク刑務所への服役が決まる。ショーシャンクでは、長年服役する「調達屋」こと<b>エリス・ボイド・レディング (レッド)</b>が、もう何度目かとなる<a href=\"/wiki/%E4%BB%AE%E9%87%88%E6%94%BE\" title=\"仮釈放\">仮釈放</a>の審査を受け、更生したことを訴えるがやはり却下される。レッドが落胆し部屋を出ると、アンディを含む新しい受刑者達が護送されて来る。アンディら新入り達は<b>ノートン所長</b>と<b>ハドリー主任刑務官</b>から脅しを含めたショーシャンク刑務所の紹介をされ、その晩に取り乱した一人の新人受刑者がハドリーから過剰暴力を受けて死んでしまう。</p>\n",
      "<b>アンドリュー・デュフレーン （アンディ）</b>\n",
      "<b>エリス・ボイド・レディング (レッド)</b>\n",
      "<a href=\"/wiki/%E4%BB%AE%E9%87%88%E6%94%BE\" title=\"仮釈放\">仮釈放</a>\n",
      "<b>ノートン所長</b>\n",
      "<b>ハドリー主任刑務官</b>\n",
      "<p>孤立していたアンディはやがてレッドに声をかけ、鉱物採集の趣味のため小さなロックハンマーを注文する。それをきっかけにアンディはレッドと交友を重ね始める。他方、アンディは荒くれ者の<b>ボッグズ</b>とその一味に性的行為を強要され、抵抗のため常に生傷が絶えない生活が続いた。</p>\n",
      "<b>ボッグズ</b>\n",
      "<p>1949年、アンディは屋根の修理作業中、ハドリーの遺産相続問題を知り、作業仲間達へのビールと引き換えに解決策を提案する。ビールを手に入れ仲間達から尊敬される一方で、ハドリーら刑務官からも一目置かれるようになる。その後ボグズらがアンディを襲って全治1ヶ月の重傷を負わせるも、ボグズがハドリーに半殺しにされて以後、アンディを襲う者はいなくなった。アンディが治療を終え自分の房に戻ってくると、レッドに注文していた<a href=\"/wiki/%E3%83%AA%E3%82%BF%E3%83%BB%E3%83%98%E3%82%A4%E3%83%AF%E3%83%BC%E3%82%B9\" title=\"リタ・ヘイワース\">リタ・ヘイワース</a>の大判ポスターが退院祝いとして置かれていた。</p>\n",
      "<a href=\"/wiki/%E3%83%AA%E3%82%BF%E3%83%BB%E3%83%98%E3%82%A4%E3%83%AF%E3%83%BC%E3%82%B9\" title=\"リタ・ヘイワース\">リタ・ヘイワース</a>\n",
      "<p>やがて、アンディは図書係に配置換えとなり、もう50年も服役している老囚人<b>ブルックス</b>の助手となる。だが、その本当の目的はノートン所長や刑務官達の税務処理や資産運用をアンディに行わせるためだった。アンディは有能な銀行家としての手腕を発揮する一方で、名ばかりだった図書係としても精力的に活動を始め、州議会に図書館予算の請求を毎週送るようになる。</p>\n",
      "<b>ブルックス</b>\n",
      "<p>1954年、ブルックスに仮釈放の許可が下りるが、50年服役した老人は塀の外の生活への恐れから取り乱す。アンディらに説得され、仮釈放を受け入れるが、結局、外の生活に馴染むことはできず、最期は首を吊って死んでしまう。死の間際に送られた感謝の手紙を読んで、アンディとレッドは苛まれる。一方、手紙に根負けした州議会はわずかばかりの寄付金と古書をショーシャンク刑務所に送ってくる。アンディは送られてきた荷物の中に『<a href=\"/wiki/%E3%83%95%E3%82%A3%E3%82%AC%E3%83%AD%E3%81%AE%E7%B5%90%E5%A9%9A\" title=\"フィガロの結婚\">フィガロの結婚</a>』のレコードを見つけ、それを勝手に所内放送で流したことで懲罰房送りとなる。その後、仲間達からレコードを流した理由を尋ねられ、アンディは「音楽と希望は誰にも奪えないものだ」と説明するが、レッドは「そんなもの（希望）は塀の中じゃ不必要だ」と反論する。</p>\n",
      "<a href=\"/wiki/%E3%83%95%E3%82%A3%E3%82%AC%E3%83%AD%E3%81%AE%E7%B5%90%E5%A9%9A\" title=\"フィガロの結婚\">フィガロの結婚</a>\n",
      "<p>1963年、アンディが州議会にさらに手紙を送り続けた結果、年度毎の予算まで獲得し、倉庫同然だった図書館は囚人達の娯楽と教養を得る場となっていた。その頃所長は、囚人達の社会更生を図るという名目で、彼らを労働力として野外作業をさせ始め、その<a href=\"/wiki/%E3%83%94%E3%83%B3%E3%83%8F%E3%83%8D\" title=\"ピンハネ\">ピンハネ</a>や土建業者達からの賄賂を受け取り始める。そしてアンディは<b>「ランドール・スティーブンス」</b>という架空の人物を作り出し、その多額の不正蓄財を見事に隠蔽していた。</p>\n",
      "<a href=\"/wiki/%E3%83%94%E3%83%B3%E3%83%8F%E3%83%8D\" title=\"ピンハネ\">ピンハネ</a>\n",
      "<b>「ランドール・スティーブンス」</b>\n",
      "<p>1965年、新たに入所したコソ泥の<b>トミー</b>は、すぐにレッドの仲間達と打ち解け、アンディも彼を気に入る。更生を望むトミーにアンディは文字の読み書きから勉強を教え始め、やがて高校卒業資格を申請するにまで至る。トミーはアンディの過去を知ると、その真犯人に心当たりがあることを話す。アンディは所長に再審請求したいと頼み込むが、優秀な経理担当者と同時に不正蓄財を知っている彼を自由にさせる気のない所長は、アンディを懲罰房に入れ考えを改めるよう迫る。1ヶ月経っても折れないアンディに業を煮やした所長とハドリーは、冤罪証明の鍵を握るトミーを呼び出して射殺、後日アンディには「脱走したため撃った」と嘘を伝える。</p>\n",
      "<b>トミー</b>\n",
      "<p>トミーの死から1ヶ月後、アンディは再び不正経理を行うことを条件に懲罰房から出される。しかし、アンディの様子はどこかおかしく、レッドに要領を得ない伝言を残す。レッドら仲間達はアンディが自殺を考えていると疑い、嵐の晩に心配が募る。</p>\n",
      "<p>翌朝の点呼の際、アンディが房から消えていることが発覚する。所長やハドリーもアンディの房に向かい、リタ・ヘイワースから<a href=\"/wiki/%E3%83%9E%E3%83%AA%E3%83%AA%E3%83%B3%E3%83%BB%E3%83%A2%E3%83%B3%E3%83%AD%E3%83%BC\" title=\"マリリン・モンロー\">マリリン・モンロー</a>へ、そして<a href=\"/wiki/%E3%83%A9%E3%82%AF%E3%82%A8%E3%83%AB%E3%83%BB%E3%82%A6%E3%82%A7%E3%83%AB%E3%83%81\" title=\"ラクエル・ウェルチ\">ラクエル・ウェルチ</a>へと代替わりしていたポスターの裏の壁に大穴が開いていることを見つけ出した。アンディは約20年間ロックハンマーで壁を掘り続け、ついに1966年、脱獄したのだった。アンディはスティーブンスに成りすまして所長の不正蓄財を引き出すと同時に告発状を新聞社へ送り、難なくメキシコへ逃亡する。そしてアンディの告発状によってハドリーは逮捕され、所長は拳銃自殺する。</p>\n",
      "<a href=\"/wiki/%E3%83%9E%E3%83%AA%E3%83%AA%E3%83%B3%E3%83%BB%E3%83%A2%E3%83%B3%E3%83%AD%E3%83%BC\" title=\"マリリン・モンロー\">マリリン・モンロー</a>\n",
      "<a href=\"/wiki/%E3%83%A9%E3%82%AF%E3%82%A8%E3%83%AB%E3%83%BB%E3%82%A6%E3%82%A7%E3%83%AB%E3%83%81\" title=\"ラクエル・ウェルチ\">ラクエル・ウェルチ</a>\n",
      "<p>間もなくレッドは服役40年目にしてようやく仮釈放されるが、ブルックスと同様に外の生活に順応できない。ブルックスと同じ悲劇への道を辿りかけるが、レッドはアンディの伝言を信じてメキシコのシワタネホへ向かう。そして、青海の海岸線で悠々自適の生活を送るアンディと再会し、喜びの抱擁を交わす。</p>\n",
      "<h2><span class=\"mw-headline\" id=\".E3.82.AD.E3.83.A3.E3.82.B9.E3.83.88\">キャスト</span><span class=\"mw-editsection\"><span class=\"mw-editsection-bracket\">[</span><a href=\"/w/index.php?title=%E3%82%B7%E3%83%A7%E3%83%BC%E3%82%B7%E3%83%A3%E3%83%B3%E3%82%AF%E3%81%AE%E7%A9%BA%E3%81%AB&amp;action=edit&amp;section=2\" title=\"節を編集: キャスト\">編集</a><span class=\"mw-editsection-bracket\">]</span></span></h2>\n",
      "<span class=\"mw-headline\" id=\".E3.82.AD.E3.83.A3.E3.82.B9.E3.83.88\">キャスト</span>\n",
      "<span class=\"mw-editsection\"><span class=\"mw-editsection-bracket\">[</span><a href=\"/w/index.php?title=%E3%82%B7%E3%83%A7%E3%83%BC%E3%82%B7%E3%83%A3%E3%83%B3%E3%82%AF%E3%81%AE%E7%A9%BA%E3%81%AB&amp;action=edit&amp;section=2\" title=\"節を編集: キャスト\">編集</a><span class=\"mw-editsection-bracket\">]</span></span>\n",
      "<span class=\"mw-editsection-bracket\">[</span>\n",
      "<a href=\"/w/index.php?title=%E3%82%B7%E3%83%A7%E3%83%BC%E3%82%B7%E3%83%A3%E3%83%B3%E3%82%AF%E3%81%AE%E7%A9%BA%E3%81%AB&amp;action=edit&amp;section=2\" title=\"節を編集: キャスト\">編集</a>\n",
      "<span class=\"mw-editsection-bracket\">]</span>\n",
      "<table class=\"wikitable\" style=\"text-align:center\">\n",
      "<tr>\n",
      "<th rowspan=\"2\">役名</th>\n",
      "<th rowspan=\"2\">俳優</th>\n",
      "<th colspan=\"2\">日本語吹き替え</th>\n",
      "</tr>\n",
      "<tr>\n",
      "<th>DVD・BD</th>\n",
      "<th>TBS</th>\n",
      "</tr>\n",
      "<tr>\n",
      "<td>アンドリュー・\"アンディ\"・デュフレーン</td>\n",
      "<td><a href=\"/wiki/%E3%83%86%E3%82%A3%E3%83%A0%E3%83%BB%E3%83%AD%E3%83%93%E3%83%B3%E3%82%B9\" title=\"ティム・ロビンス\">ティム・ロビンス</a></td>\n",
      "<td><a href=\"/wiki/%E5%A4%A7%E5%A1%9A%E8%8A%B3%E5%BF%A0\" title=\"大塚芳忠\">大塚芳忠</a></td>\n",
      "<td><a href=\"/wiki/%E5%AE%89%E5%8E%9F%E7%BE%A9%E4%BA%BA\" title=\"安原義人\">安原義人</a></td>\n",
      "</tr>\n",
      "<tr>\n",
      "<td>エリス・ボイド・\"レッド\"・レディング</td>\n",
      "<td><a href=\"/wiki/%E3%83%A2%E3%83%BC%E3%82%AC%E3%83%B3%E3%83%BB%E3%83%95%E3%83%AA%E3%83%BC%E3%83%9E%E3%83%B3\" title=\"モーガン・フリーマン\">モーガン・フリーマン</a></td>\n",
      "<td><a href=\"/wiki/%E6%B1%A0%E7%94%B0%E5%8B%9D\" title=\"池田勝\">池田勝</a></td>\n",
      "<td><a href=\"/wiki/%E5%9D%82%E5%8F%A3%E8%8A%B3%E8%B2%9E\" title=\"坂口芳貞\">坂口芳貞</a></td>\n",
      "</tr>\n",
      "<tr>\n",
      "<td>サミュエル・ノートン刑務所長</td>\n",
      "<td><a href=\"/wiki/%E3%83%9C%E3%83%96%E3%83%BB%E3%82%AC%E3%83%B3%E3%83%88%E3%83%B3\" title=\"ボブ・ガントン\">ボブ・ガントン</a></td>\n",
      "<td><a href=\"/wiki/%E4%BB%81%E5%86%85%E5%BB%BA%E4%B9%8B\" title=\"仁内建之\">仁内建之</a></td>\n",
      "<td><a href=\"/wiki/%E4%BD%90%E3%80%85%E6%9C%A8%E5%8B%9D%E5%BD%A6\" title=\"佐々木勝彦\">佐々木勝彦</a></td>\n",
      "</tr>\n",
      "<tr>\n",
      "<td>ヘイウッド</td>\n",
      "<td><a href=\"/wiki/%E3%82%A6%E3%82%A3%E3%83%AA%E3%82%A2%E3%83%A0%E3%83%BB%E3%82%B5%E3%83%89%E3%83%A9%E3%83%BC\" title=\"ウィリアム・サドラー\">ウィリアム・サドラー</a></td>\n",
      "<td><a href=\"/wiki/%E6%B1%9F%E5%8E%9F%E6%AD%A3%E5%A3%AB\" title=\"江原正士\">江原正士</a></td>\n",
      "<td rowspan=\"8\"> </td>\n",
      "</tr>\n",
      "<tr>\n",
      "<td>バイロン・ハドリー主任刑務官</td>\n",
      "<td><a href=\"/wiki/%E3%82%AF%E3%83%A9%E3%83%B3%E3%82%B7%E3%83%BC%E3%83%BB%E3%83%96%E3%83%A9%E3%82%A6%E3%83%B3\" title=\"クランシー・ブラウン\">クランシー・ブラウン</a></td>\n",
      "<td><a href=\"/wiki/%E7%94%B0%E4%B8%AD%E6%AD%A3%E5%BD%A6\" title=\"田中正彦\">田中正彦</a></td>\n",
      "</tr>\n",
      "<tr>\n",
      "<td>トミー・ウィリアムズ</td>\n",
      "<td><a href=\"/wiki/%E3%82%AE%E3%83%AB%E3%83%BB%E3%83%99%E3%83%AD%E3%83%BC%E3%82%BA\" title=\"ギル・ベローズ\">ギル・ベローズ</a></td>\n",
      "<td><a href=\"/wiki/%E7%9C%9F%E5%9C%B0%E5%8B%87%E5%BF%97\" title=\"真地勇志\">真地勇志</a></td>\n",
      "</tr>\n",
      "<tr>\n",
      "<td>ボッグズ・ダイアモンド</td>\n",
      "<td><a href=\"/wiki/%E3%83%9E%E3%83%BC%E3%82%AF%E3%83%BB%E3%83%AD%E3%83%AB%E3%82%B9%E3%83%88%E3%83%B3\" title=\"マーク・ロルストン\">マーク・ロルストン</a></td>\n",
      "<td><a href=\"/wiki/%E9%87%91%E5%B0%BE%E5%93%B2%E5%A4%AB\" title=\"金尾哲夫\">金尾哲夫</a></td>\n",
      "</tr>\n",
      "<tr>\n",
      "<td>ブルックス・ヘイトレン</td>\n",
      "<td><a href=\"/wiki/%E3%82%B8%E3%82%A7%E3%83%BC%E3%83%A0%E3%82%BA%E3%83%BB%E3%83%9B%E3%82%A4%E3%83%83%E3%83%88%E3%83%A2%E3%82%A2\" title=\"ジェームズ・ホイットモア\">ジェームズ・ホイットモア</a></td>\n",
      "<td><a href=\"/wiki/%E5%AE%AE%E7%94%B0%E5%85%89\" title=\"宮田光\">宮田光</a></td>\n",
      "</tr>\n",
      "<tr>\n",
      "<td>検察官</td>\n",
      "<td><a href=\"/wiki/%E3%82%B8%E3%82%A7%E3%83%95%E3%83%AA%E3%83%BC%E3%83%BB%E3%83%87%E3%83%9E%E3%83%B3\" title=\"ジェフリー・デマン\">ジェフリー・デマン</a></td>\n",
      "<td><a href=\"/wiki/%E7%B3%B8%E5%8D%9A\" title=\"糸博\">糸博</a></td>\n",
      "</tr>\n",
      "<tr>\n",
      "<td>トラウト</td>\n",
      "<td><a href=\"/wiki/%E3%83%9D%E3%83%BC%E3%83%AB%E3%83%BB%E3%83%9E%E3%82%AF%E3%83%AC%E3%83%BC%E3%83%B3\" title=\"ポール・マクレーン\">ポール・マクレーン</a></td>\n",
      "<td></td>\n",
      "</tr>\n",
      "<tr>\n",
      "<td>マート</td>\n",
      "<td><a href=\"/wiki/%E3%82%B8%E3%83%A5%E3%83%BC%E3%83%89%E3%83%BB%E3%83%81%E3%82%B3%E3%83%AC%E3%83%83%E3%83%A9\" title=\"ジュード・チコレッラ\">ジュード・チコレッラ</a></td>\n",
      "<td></td>\n",
      "</tr>\n",
      "</table>\n",
      "<tr>\n",
      "<th rowspan=\"2\">役名</th>\n",
      "<th rowspan=\"2\">俳優</th>\n",
      "<th colspan=\"2\">日本語吹き替え</th>\n",
      "</tr>\n",
      "<th rowspan=\"2\">役名</th>\n",
      "<th rowspan=\"2\">俳優</th>\n",
      "<th colspan=\"2\">日本語吹き替え</th>\n",
      "<tr>\n",
      "<th>DVD・BD</th>\n",
      "<th>TBS</th>\n",
      "</tr>\n",
      "<th>DVD・BD</th>\n",
      "<th>TBS</th>\n",
      "<tr>\n",
      "<td>アンドリュー・\"アンディ\"・デュフレーン</td>\n",
      "<td><a href=\"/wiki/%E3%83%86%E3%82%A3%E3%83%A0%E3%83%BB%E3%83%AD%E3%83%93%E3%83%B3%E3%82%B9\" title=\"ティム・ロビンス\">ティム・ロビンス</a></td>\n",
      "<td><a href=\"/wiki/%E5%A4%A7%E5%A1%9A%E8%8A%B3%E5%BF%A0\" title=\"大塚芳忠\">大塚芳忠</a></td>\n",
      "<td><a href=\"/wiki/%E5%AE%89%E5%8E%9F%E7%BE%A9%E4%BA%BA\" title=\"安原義人\">安原義人</a></td>\n",
      "</tr>\n",
      "<td>アンドリュー・\"アンディ\"・デュフレーン</td>\n",
      "<td><a href=\"/wiki/%E3%83%86%E3%82%A3%E3%83%A0%E3%83%BB%E3%83%AD%E3%83%93%E3%83%B3%E3%82%B9\" title=\"ティム・ロビンス\">ティム・ロビンス</a></td>\n",
      "<a href=\"/wiki/%E3%83%86%E3%82%A3%E3%83%A0%E3%83%BB%E3%83%AD%E3%83%93%E3%83%B3%E3%82%B9\" title=\"ティム・ロビンス\">ティム・ロビンス</a>\n",
      "<td><a href=\"/wiki/%E5%A4%A7%E5%A1%9A%E8%8A%B3%E5%BF%A0\" title=\"大塚芳忠\">大塚芳忠</a></td>\n",
      "<a href=\"/wiki/%E5%A4%A7%E5%A1%9A%E8%8A%B3%E5%BF%A0\" title=\"大塚芳忠\">大塚芳忠</a>\n",
      "<td><a href=\"/wiki/%E5%AE%89%E5%8E%9F%E7%BE%A9%E4%BA%BA\" title=\"安原義人\">安原義人</a></td>\n",
      "<a href=\"/wiki/%E5%AE%89%E5%8E%9F%E7%BE%A9%E4%BA%BA\" title=\"安原義人\">安原義人</a>\n",
      "<tr>\n",
      "<td>エリス・ボイド・\"レッド\"・レディング</td>\n",
      "<td><a href=\"/wiki/%E3%83%A2%E3%83%BC%E3%82%AC%E3%83%B3%E3%83%BB%E3%83%95%E3%83%AA%E3%83%BC%E3%83%9E%E3%83%B3\" title=\"モーガン・フリーマン\">モーガン・フリーマン</a></td>\n",
      "<td><a href=\"/wiki/%E6%B1%A0%E7%94%B0%E5%8B%9D\" title=\"池田勝\">池田勝</a></td>\n",
      "<td><a href=\"/wiki/%E5%9D%82%E5%8F%A3%E8%8A%B3%E8%B2%9E\" title=\"坂口芳貞\">坂口芳貞</a></td>\n",
      "</tr>\n",
      "<td>エリス・ボイド・\"レッド\"・レディング</td>\n",
      "<td><a href=\"/wiki/%E3%83%A2%E3%83%BC%E3%82%AC%E3%83%B3%E3%83%BB%E3%83%95%E3%83%AA%E3%83%BC%E3%83%9E%E3%83%B3\" title=\"モーガン・フリーマン\">モーガン・フリーマン</a></td>\n",
      "<a href=\"/wiki/%E3%83%A2%E3%83%BC%E3%82%AC%E3%83%B3%E3%83%BB%E3%83%95%E3%83%AA%E3%83%BC%E3%83%9E%E3%83%B3\" title=\"モーガン・フリーマン\">モーガン・フリーマン</a>\n",
      "<td><a href=\"/wiki/%E6%B1%A0%E7%94%B0%E5%8B%9D\" title=\"池田勝\">池田勝</a></td>\n",
      "<a href=\"/wiki/%E6%B1%A0%E7%94%B0%E5%8B%9D\" title=\"池田勝\">池田勝</a>\n",
      "<td><a href=\"/wiki/%E5%9D%82%E5%8F%A3%E8%8A%B3%E8%B2%9E\" title=\"坂口芳貞\">坂口芳貞</a></td>\n",
      "<a href=\"/wiki/%E5%9D%82%E5%8F%A3%E8%8A%B3%E8%B2%9E\" title=\"坂口芳貞\">坂口芳貞</a>\n",
      "<tr>\n",
      "<td>サミュエル・ノートン刑務所長</td>\n",
      "<td><a href=\"/wiki/%E3%83%9C%E3%83%96%E3%83%BB%E3%82%AC%E3%83%B3%E3%83%88%E3%83%B3\" title=\"ボブ・ガントン\">ボブ・ガントン</a></td>\n",
      "<td><a href=\"/wiki/%E4%BB%81%E5%86%85%E5%BB%BA%E4%B9%8B\" title=\"仁内建之\">仁内建之</a></td>\n",
      "<td><a href=\"/wiki/%E4%BD%90%E3%80%85%E6%9C%A8%E5%8B%9D%E5%BD%A6\" title=\"佐々木勝彦\">佐々木勝彦</a></td>\n",
      "</tr>\n",
      "<td>サミュエル・ノートン刑務所長</td>\n",
      "<td><a href=\"/wiki/%E3%83%9C%E3%83%96%E3%83%BB%E3%82%AC%E3%83%B3%E3%83%88%E3%83%B3\" title=\"ボブ・ガントン\">ボブ・ガントン</a></td>\n",
      "<a href=\"/wiki/%E3%83%9C%E3%83%96%E3%83%BB%E3%82%AC%E3%83%B3%E3%83%88%E3%83%B3\" title=\"ボブ・ガントン\">ボブ・ガントン</a>\n",
      "<td><a href=\"/wiki/%E4%BB%81%E5%86%85%E5%BB%BA%E4%B9%8B\" title=\"仁内建之\">仁内建之</a></td>\n",
      "<a href=\"/wiki/%E4%BB%81%E5%86%85%E5%BB%BA%E4%B9%8B\" title=\"仁内建之\">仁内建之</a>\n",
      "<td><a href=\"/wiki/%E4%BD%90%E3%80%85%E6%9C%A8%E5%8B%9D%E5%BD%A6\" title=\"佐々木勝彦\">佐々木勝彦</a></td>\n",
      "<a href=\"/wiki/%E4%BD%90%E3%80%85%E6%9C%A8%E5%8B%9D%E5%BD%A6\" title=\"佐々木勝彦\">佐々木勝彦</a>\n",
      "<tr>\n",
      "<td>ヘイウッド</td>\n",
      "<td><a href=\"/wiki/%E3%82%A6%E3%82%A3%E3%83%AA%E3%82%A2%E3%83%A0%E3%83%BB%E3%82%B5%E3%83%89%E3%83%A9%E3%83%BC\" title=\"ウィリアム・サドラー\">ウィリアム・サドラー</a></td>\n",
      "<td><a href=\"/wiki/%E6%B1%9F%E5%8E%9F%E6%AD%A3%E5%A3%AB\" title=\"江原正士\">江原正士</a></td>\n",
      "<td rowspan=\"8\"> </td>\n",
      "</tr>\n",
      "<td>ヘイウッド</td>\n",
      "<td><a href=\"/wiki/%E3%82%A6%E3%82%A3%E3%83%AA%E3%82%A2%E3%83%A0%E3%83%BB%E3%82%B5%E3%83%89%E3%83%A9%E3%83%BC\" title=\"ウィリアム・サドラー\">ウィリアム・サドラー</a></td>\n",
      "<a href=\"/wiki/%E3%82%A6%E3%82%A3%E3%83%AA%E3%82%A2%E3%83%A0%E3%83%BB%E3%82%B5%E3%83%89%E3%83%A9%E3%83%BC\" title=\"ウィリアム・サドラー\">ウィリアム・サドラー</a>\n",
      "<td><a href=\"/wiki/%E6%B1%9F%E5%8E%9F%E6%AD%A3%E5%A3%AB\" title=\"江原正士\">江原正士</a></td>\n",
      "<a href=\"/wiki/%E6%B1%9F%E5%8E%9F%E6%AD%A3%E5%A3%AB\" title=\"江原正士\">江原正士</a>\n",
      "<td rowspan=\"8\"> </td>\n",
      "<tr>\n",
      "<td>バイロン・ハドリー主任刑務官</td>\n",
      "<td><a href=\"/wiki/%E3%82%AF%E3%83%A9%E3%83%B3%E3%82%B7%E3%83%BC%E3%83%BB%E3%83%96%E3%83%A9%E3%82%A6%E3%83%B3\" title=\"クランシー・ブラウン\">クランシー・ブラウン</a></td>\n",
      "<td><a href=\"/wiki/%E7%94%B0%E4%B8%AD%E6%AD%A3%E5%BD%A6\" title=\"田中正彦\">田中正彦</a></td>\n",
      "</tr>\n",
      "<td>バイロン・ハドリー主任刑務官</td>\n",
      "<td><a href=\"/wiki/%E3%82%AF%E3%83%A9%E3%83%B3%E3%82%B7%E3%83%BC%E3%83%BB%E3%83%96%E3%83%A9%E3%82%A6%E3%83%B3\" title=\"クランシー・ブラウン\">クランシー・ブラウン</a></td>\n",
      "<a href=\"/wiki/%E3%82%AF%E3%83%A9%E3%83%B3%E3%82%B7%E3%83%BC%E3%83%BB%E3%83%96%E3%83%A9%E3%82%A6%E3%83%B3\" title=\"クランシー・ブラウン\">クランシー・ブラウン</a>\n",
      "<td><a href=\"/wiki/%E7%94%B0%E4%B8%AD%E6%AD%A3%E5%BD%A6\" title=\"田中正彦\">田中正彦</a></td>\n",
      "<a href=\"/wiki/%E7%94%B0%E4%B8%AD%E6%AD%A3%E5%BD%A6\" title=\"田中正彦\">田中正彦</a>\n",
      "<tr>\n",
      "<td>トミー・ウィリアムズ</td>\n",
      "<td><a href=\"/wiki/%E3%82%AE%E3%83%AB%E3%83%BB%E3%83%99%E3%83%AD%E3%83%BC%E3%82%BA\" title=\"ギル・ベローズ\">ギル・ベローズ</a></td>\n",
      "<td><a href=\"/wiki/%E7%9C%9F%E5%9C%B0%E5%8B%87%E5%BF%97\" title=\"真地勇志\">真地勇志</a></td>\n",
      "</tr>\n",
      "<td>トミー・ウィリアムズ</td>\n",
      "<td><a href=\"/wiki/%E3%82%AE%E3%83%AB%E3%83%BB%E3%83%99%E3%83%AD%E3%83%BC%E3%82%BA\" title=\"ギル・ベローズ\">ギル・ベローズ</a></td>\n",
      "<a href=\"/wiki/%E3%82%AE%E3%83%AB%E3%83%BB%E3%83%99%E3%83%AD%E3%83%BC%E3%82%BA\" title=\"ギル・ベローズ\">ギル・ベローズ</a>\n",
      "<td><a href=\"/wiki/%E7%9C%9F%E5%9C%B0%E5%8B%87%E5%BF%97\" title=\"真地勇志\">真地勇志</a></td>\n",
      "<a href=\"/wiki/%E7%9C%9F%E5%9C%B0%E5%8B%87%E5%BF%97\" title=\"真地勇志\">真地勇志</a>\n",
      "<tr>\n",
      "<td>ボッグズ・ダイアモンド</td>\n",
      "<td><a href=\"/wiki/%E3%83%9E%E3%83%BC%E3%82%AF%E3%83%BB%E3%83%AD%E3%83%AB%E3%82%B9%E3%83%88%E3%83%B3\" title=\"マーク・ロルストン\">マーク・ロルストン</a></td>\n",
      "<td><a href=\"/wiki/%E9%87%91%E5%B0%BE%E5%93%B2%E5%A4%AB\" title=\"金尾哲夫\">金尾哲夫</a></td>\n",
      "</tr>\n",
      "<td>ボッグズ・ダイアモンド</td>\n",
      "<td><a href=\"/wiki/%E3%83%9E%E3%83%BC%E3%82%AF%E3%83%BB%E3%83%AD%E3%83%AB%E3%82%B9%E3%83%88%E3%83%B3\" title=\"マーク・ロルストン\">マーク・ロルストン</a></td>\n",
      "<a href=\"/wiki/%E3%83%9E%E3%83%BC%E3%82%AF%E3%83%BB%E3%83%AD%E3%83%AB%E3%82%B9%E3%83%88%E3%83%B3\" title=\"マーク・ロルストン\">マーク・ロルストン</a>\n",
      "<td><a href=\"/wiki/%E9%87%91%E5%B0%BE%E5%93%B2%E5%A4%AB\" title=\"金尾哲夫\">金尾哲夫</a></td>\n",
      "<a href=\"/wiki/%E9%87%91%E5%B0%BE%E5%93%B2%E5%A4%AB\" title=\"金尾哲夫\">金尾哲夫</a>\n",
      "<tr>\n",
      "<td>ブルックス・ヘイトレン</td>\n",
      "<td><a href=\"/wiki/%E3%82%B8%E3%82%A7%E3%83%BC%E3%83%A0%E3%82%BA%E3%83%BB%E3%83%9B%E3%82%A4%E3%83%83%E3%83%88%E3%83%A2%E3%82%A2\" title=\"ジェームズ・ホイットモア\">ジェームズ・ホイットモア</a></td>\n",
      "<td><a href=\"/wiki/%E5%AE%AE%E7%94%B0%E5%85%89\" title=\"宮田光\">宮田光</a></td>\n",
      "</tr>\n",
      "<td>ブルックス・ヘイトレン</td>\n",
      "<td><a href=\"/wiki/%E3%82%B8%E3%82%A7%E3%83%BC%E3%83%A0%E3%82%BA%E3%83%BB%E3%83%9B%E3%82%A4%E3%83%83%E3%83%88%E3%83%A2%E3%82%A2\" title=\"ジェームズ・ホイットモア\">ジェームズ・ホイットモア</a></td>\n",
      "<a href=\"/wiki/%E3%82%B8%E3%82%A7%E3%83%BC%E3%83%A0%E3%82%BA%E3%83%BB%E3%83%9B%E3%82%A4%E3%83%83%E3%83%88%E3%83%A2%E3%82%A2\" title=\"ジェームズ・ホイットモア\">ジェームズ・ホイットモア</a>\n",
      "<td><a href=\"/wiki/%E5%AE%AE%E7%94%B0%E5%85%89\" title=\"宮田光\">宮田光</a></td>\n",
      "<a href=\"/wiki/%E5%AE%AE%E7%94%B0%E5%85%89\" title=\"宮田光\">宮田光</a>\n",
      "<tr>\n",
      "<td>検察官</td>\n",
      "<td><a href=\"/wiki/%E3%82%B8%E3%82%A7%E3%83%95%E3%83%AA%E3%83%BC%E3%83%BB%E3%83%87%E3%83%9E%E3%83%B3\" title=\"ジェフリー・デマン\">ジェフリー・デマン</a></td>\n",
      "<td><a href=\"/wiki/%E7%B3%B8%E5%8D%9A\" title=\"糸博\">糸博</a></td>\n",
      "</tr>\n",
      "<td>検察官</td>\n",
      "<td><a href=\"/wiki/%E3%82%B8%E3%82%A7%E3%83%95%E3%83%AA%E3%83%BC%E3%83%BB%E3%83%87%E3%83%9E%E3%83%B3\" title=\"ジェフリー・デマン\">ジェフリー・デマン</a></td>\n",
      "<a href=\"/wiki/%E3%82%B8%E3%82%A7%E3%83%95%E3%83%AA%E3%83%BC%E3%83%BB%E3%83%87%E3%83%9E%E3%83%B3\" title=\"ジェフリー・デマン\">ジェフリー・デマン</a>\n",
      "<td><a href=\"/wiki/%E7%B3%B8%E5%8D%9A\" title=\"糸博\">糸博</a></td>\n",
      "<a href=\"/wiki/%E7%B3%B8%E5%8D%9A\" title=\"糸博\">糸博</a>\n",
      "<tr>\n",
      "<td>トラウト</td>\n",
      "<td><a href=\"/wiki/%E3%83%9D%E3%83%BC%E3%83%AB%E3%83%BB%E3%83%9E%E3%82%AF%E3%83%AC%E3%83%BC%E3%83%B3\" title=\"ポール・マクレーン\">ポール・マクレーン</a></td>\n",
      "<td></td>\n",
      "</tr>\n",
      "<td>トラウト</td>\n",
      "<td><a href=\"/wiki/%E3%83%9D%E3%83%BC%E3%83%AB%E3%83%BB%E3%83%9E%E3%82%AF%E3%83%AC%E3%83%BC%E3%83%B3\" title=\"ポール・マクレーン\">ポール・マクレーン</a></td>\n",
      "<a href=\"/wiki/%E3%83%9D%E3%83%BC%E3%83%AB%E3%83%BB%E3%83%9E%E3%82%AF%E3%83%AC%E3%83%BC%E3%83%B3\" title=\"ポール・マクレーン\">ポール・マクレーン</a>\n",
      "<td></td>\n",
      "<tr>\n",
      "<td>マート</td>\n",
      "<td><a href=\"/wiki/%E3%82%B8%E3%83%A5%E3%83%BC%E3%83%89%E3%83%BB%E3%83%81%E3%82%B3%E3%83%AC%E3%83%83%E3%83%A9\" title=\"ジュード・チコレッラ\">ジュード・チコレッラ</a></td>\n",
      "<td></td>\n",
      "</tr>\n",
      "<td>マート</td>\n",
      "<td><a href=\"/wiki/%E3%82%B8%E3%83%A5%E3%83%BC%E3%83%89%E3%83%BB%E3%83%81%E3%82%B3%E3%83%AC%E3%83%83%E3%83%A9\" title=\"ジュード・チコレッラ\">ジュード・チコレッラ</a></td>\n",
      "<a href=\"/wiki/%E3%82%B8%E3%83%A5%E3%83%BC%E3%83%89%E3%83%BB%E3%83%81%E3%82%B3%E3%83%AC%E3%83%83%E3%83%A9\" title=\"ジュード・チコレッラ\">ジュード・チコレッラ</a>\n",
      "<td></td>\n",
      "<ul>\n",
      "<li>TBS版吹き替え：初回放送 <a href=\"/wiki/1997%E5%B9%B4\" title=\"1997年\">1997年</a><a href=\"/wiki/3%E6%9C%8830%E6%97%A5\" title=\"3月30日\">3月30日</a>「春の映画スペシャル」 14:00-16:54</li>\n",
      "</ul>\n",
      "<li>TBS版吹き替え：初回放送 <a href=\"/wiki/1997%E5%B9%B4\" title=\"1997年\">1997年</a><a href=\"/wiki/3%E6%9C%8830%E6%97%A5\" title=\"3月30日\">3月30日</a>「春の映画スペシャル」 14:00-16:54</li>\n",
      "<a href=\"/wiki/1997%E5%B9%B4\" title=\"1997年\">1997年</a>\n",
      "<a href=\"/wiki/3%E6%9C%8830%E6%97%A5\" title=\"3月30日\">3月30日</a>\n",
      "<h2><span class=\"mw-headline\" id=\".E3.82.B9.E3.82.BF.E3.83.83.E3.83.95\">スタッフ</span><span class=\"mw-editsection\"><span class=\"mw-editsection-bracket\">[</span><a href=\"/w/index.php?title=%E3%82%B7%E3%83%A7%E3%83%BC%E3%82%B7%E3%83%A3%E3%83%B3%E3%82%AF%E3%81%AE%E7%A9%BA%E3%81%AB&amp;action=edit&amp;section=3\" title=\"節を編集: スタッフ\">編集</a><span class=\"mw-editsection-bracket\">]</span></span></h2>\n"
     ]
    }
   ],
   "source": [
    "print(data)"
   ]
  },
  {
   "cell_type": "code",
   "execution_count": 32,
   "metadata": {
    "collapsed": true
   },
   "outputs": [],
   "source": [
    "data = '\\n'.join(map(str, data))"
   ]
  },
  {
   "cell_type": "code",
   "execution_count": 33,
   "metadata": {
    "collapsed": false
   },
   "outputs": [
    {
     "name": "stdout",
     "output_type": "stream",
     "text": [
      "<span class=\"mw-editsection\"><span class=\"mw-editsection-bracket\">[</span><a href=\"/w/index.php?title=%E3%82%B7%E3%83%A7%E3%83%BC%E3%82%B7%E3%83%A3%E3%83%B3%E3%82%AF%E3%81%AE%E7%A9%BA%E3%81%AB&amp;action=edit&amp;section=1\" title=\"節を編集: ストーリー\">編集</a><span class=\"mw-editsection-bracket\">]</span></span>\n",
      "<span class=\"mw-editsection-bracket\">[</span>\n",
      "<a href=\"/w/index.php?title=%E3%82%B7%E3%83%A7%E3%83%BC%E3%82%B7%E3%83%A3%E3%83%B3%E3%82%AF%E3%81%AE%E7%A9%BA%E3%81%AB&amp;action=edit&amp;section=1\" title=\"節を編集: ストーリー\">編集</a>\n",
      "<span class=\"mw-editsection-bracket\">]</span>\n",
      "<p>1947年、若くして銀行副頭取を務める<b>アンドリュー・デュフレーン （アンディ）</b>は、妻とその愛人を射殺した罪に問われる。無実を訴えるも終身刑の判決が下り、劣悪なショーシャンク刑務所への服役が決まる。ショーシャンクでは、長年服役する「調達屋」こと<b>エリス・ボイド・レディング (レッド)</b>が、もう何度目かとなる<a href=\"/wiki/%E4%BB%AE%E9%87%88%E6%94%BE\" title=\"仮釈放\">仮釈放</a>の審査を受け、更生したことを訴えるがやはり却下される。レッドが落胆し部屋を出ると、アンディを含む新しい受刑者達が護送されて来る。アンディら新入り達は<b>ノートン所長</b>と<b>ハドリー主任刑務官</b>から脅しを含めたショーシャンク刑務所の紹介をされ、その晩に取り乱した一人の新人受刑者がハドリーから過剰暴力を受けて死んでしまう。</p>\n",
      "<b>アンドリュー・デュフレーン （アンディ）</b>\n",
      "<b>エリス・ボイド・レディング (レッド)</b>\n",
      "<a href=\"/wiki/%E4%BB%AE%E9%87%88%E6%94%BE\" title=\"仮釈放\">仮釈放</a>\n",
      "<b>ノートン所長</b>\n",
      "<b>ハドリー主任刑務官</b>\n",
      "<p>孤立していたアンディはやがてレッドに声をかけ、鉱物採集の趣味のため小さなロックハンマーを注文する。それをきっかけにアンディはレッドと交友を重ね始める。他方、アンディは荒くれ者の<b>ボッグズ</b>とその一味に性的行為を強要され、抵抗のため常に生傷が絶えない生活が続いた。</p>\n",
      "<b>ボッグズ</b>\n",
      "<p>1949年、アンディは屋根の修理作業中、ハドリーの遺産相続問題を知り、作業仲間達へのビールと引き換えに解決策を提案する。ビールを手に入れ仲間達から尊敬される一方で、ハドリーら刑務官からも一目置かれるようになる。その後ボグズらがアンディを襲って全治1ヶ月の重傷を負わせるも、ボグズがハドリーに半殺しにされて以後、アンディを襲う者はいなくなった。アンディが治療を終え自分の房に戻ってくると、レッドに注文していた<a href=\"/wiki/%E3%83%AA%E3%82%BF%E3%83%BB%E3%83%98%E3%82%A4%E3%83%AF%E3%83%BC%E3%82%B9\" title=\"リタ・ヘイワース\">リタ・ヘイワース</a>の大判ポスターが退院祝いとして置かれていた。</p>\n",
      "<a href=\"/wiki/%E3%83%AA%E3%82%BF%E3%83%BB%E3%83%98%E3%82%A4%E3%83%AF%E3%83%BC%E3%82%B9\" title=\"リタ・ヘイワース\">リタ・ヘイワース</a>\n",
      "<p>やがて、アンディは図書係に配置換えとなり、もう50年も服役している老囚人<b>ブルックス</b>の助手となる。だが、その本当の目的はノートン所長や刑務官達の税務処理や資産運用をアンディに行わせるためだった。アンディは有能な銀行家としての手腕を発揮する一方で、名ばかりだった図書係としても精力的に活動を始め、州議会に図書館予算の請求を毎週送るようになる。</p>\n",
      "<b>ブルックス</b>\n",
      "<p>1954年、ブルックスに仮釈放の許可が下りるが、50年服役した老人は塀の外の生活への恐れから取り乱す。アンディらに説得され、仮釈放を受け入れるが、結局、外の生活に馴染むことはできず、最期は首を吊って死んでしまう。死の間際に送られた感謝の手紙を読んで、アンディとレッドは苛まれる。一方、手紙に根負けした州議会はわずかばかりの寄付金と古書をショーシャンク刑務所に送ってくる。アンディは送られてきた荷物の中に『<a href=\"/wiki/%E3%83%95%E3%82%A3%E3%82%AC%E3%83%AD%E3%81%AE%E7%B5%90%E5%A9%9A\" title=\"フィガロの結婚\">フィガロの結婚</a>』のレコードを見つけ、それを勝手に所内放送で流したことで懲罰房送りとなる。その後、仲間達からレコードを流した理由を尋ねられ、アンディは「音楽と希望は誰にも奪えないものだ」と説明するが、レッドは「そんなもの（希望）は塀の中じゃ不必要だ」と反論する。</p>\n",
      "<a href=\"/wiki/%E3%83%95%E3%82%A3%E3%82%AC%E3%83%AD%E3%81%AE%E7%B5%90%E5%A9%9A\" title=\"フィガロの結婚\">フィガロの結婚</a>\n",
      "<p>1963年、アンディが州議会にさらに手紙を送り続けた結果、年度毎の予算まで獲得し、倉庫同然だった図書館は囚人達の娯楽と教養を得る場となっていた。その頃所長は、囚人達の社会更生を図るという名目で、彼らを労働力として野外作業をさせ始め、その<a href=\"/wiki/%E3%83%94%E3%83%B3%E3%83%8F%E3%83%8D\" title=\"ピンハネ\">ピンハネ</a>や土建業者達からの賄賂を受け取り始める。そしてアンディは<b>「ランドール・スティーブンス」</b>という架空の人物を作り出し、その多額の不正蓄財を見事に隠蔽していた。</p>\n",
      "<a href=\"/wiki/%E3%83%94%E3%83%B3%E3%83%8F%E3%83%8D\" title=\"ピンハネ\">ピンハネ</a>\n",
      "<b>「ランドール・スティーブンス」</b>\n",
      "<p>1965年、新たに入所したコソ泥の<b>トミー</b>は、すぐにレッドの仲間達と打ち解け、アンディも彼を気に入る。更生を望むトミーにアンディは文字の読み書きから勉強を教え始め、やがて高校卒業資格を申請するにまで至る。トミーはアンディの過去を知ると、その真犯人に心当たりがあることを話す。アンディは所長に再審請求したいと頼み込むが、優秀な経理担当者と同時に不正蓄財を知っている彼を自由にさせる気のない所長は、アンディを懲罰房に入れ考えを改めるよう迫る。1ヶ月経っても折れないアンディに業を煮やした所長とハドリーは、冤罪証明の鍵を握るトミーを呼び出して射殺、後日アンディには「脱走したため撃った」と嘘を伝える。</p>\n",
      "<b>トミー</b>\n",
      "<p>トミーの死から1ヶ月後、アンディは再び不正経理を行うことを条件に懲罰房から出される。しかし、アンディの様子はどこかおかしく、レッドに要領を得ない伝言を残す。レッドら仲間達はアンディが自殺を考えていると疑い、嵐の晩に心配が募る。</p>\n",
      "<p>翌朝の点呼の際、アンディが房から消えていることが発覚する。所長やハドリーもアンディの房に向かい、リタ・ヘイワースから<a href=\"/wiki/%E3%83%9E%E3%83%AA%E3%83%AA%E3%83%B3%E3%83%BB%E3%83%A2%E3%83%B3%E3%83%AD%E3%83%BC\" title=\"マリリン・モンロー\">マリリン・モンロー</a>へ、そして<a href=\"/wiki/%E3%83%A9%E3%82%AF%E3%82%A8%E3%83%AB%E3%83%BB%E3%82%A6%E3%82%A7%E3%83%AB%E3%83%81\" title=\"ラクエル・ウェルチ\">ラクエル・ウェルチ</a>へと代替わりしていたポスターの裏の壁に大穴が開いていることを見つけ出した。アンディは約20年間ロックハンマーで壁を掘り続け、ついに1966年、脱獄したのだった。アンディはスティーブンスに成りすまして所長の不正蓄財を引き出すと同時に告発状を新聞社へ送り、難なくメキシコへ逃亡する。そしてアンディの告発状によってハドリーは逮捕され、所長は拳銃自殺する。</p>\n",
      "<a href=\"/wiki/%E3%83%9E%E3%83%AA%E3%83%AA%E3%83%B3%E3%83%BB%E3%83%A2%E3%83%B3%E3%83%AD%E3%83%BC\" title=\"マリリン・モンロー\">マリリン・モンロー</a>\n",
      "<a href=\"/wiki/%E3%83%A9%E3%82%AF%E3%82%A8%E3%83%AB%E3%83%BB%E3%82%A6%E3%82%A7%E3%83%AB%E3%83%81\" title=\"ラクエル・ウェルチ\">ラクエル・ウェルチ</a>\n",
      "<p>間もなくレッドは服役40年目にしてようやく仮釈放されるが、ブルックスと同様に外の生活に順応できない。ブルックスと同じ悲劇への道を辿りかけるが、レッドはアンディの伝言を信じてメキシコのシワタネホへ向かう。そして、青海の海岸線で悠々自適の生活を送るアンディと再会し、喜びの抱擁を交わす。</p>\n",
      "<h2><span class=\"mw-headline\" id=\".E3.82.AD.E3.83.A3.E3.82.B9.E3.83.88\">キャスト</span><span class=\"mw-editsection\"><span class=\"mw-editsection-bracket\">[</span><a href=\"/w/index.php?title=%E3%82%B7%E3%83%A7%E3%83%BC%E3%82%B7%E3%83%A3%E3%83%B3%E3%82%AF%E3%81%AE%E7%A9%BA%E3%81%AB&amp;action=edit&amp;section=2\" title=\"節を編集: キャスト\">編集</a><span class=\"mw-editsection-bracket\">]</span></span></h2>\n",
      "<span class=\"mw-headline\" id=\".E3.82.AD.E3.83.A3.E3.82.B9.E3.83.88\">キャスト</span>\n",
      "<span class=\"mw-editsection\"><span class=\"mw-editsection-bracket\">[</span><a href=\"/w/index.php?title=%E3%82%B7%E3%83%A7%E3%83%BC%E3%82%B7%E3%83%A3%E3%83%B3%E3%82%AF%E3%81%AE%E7%A9%BA%E3%81%AB&amp;action=edit&amp;section=2\" title=\"節を編集: キャスト\">編集</a><span class=\"mw-editsection-bracket\">]</span></span>\n",
      "<span class=\"mw-editsection-bracket\">[</span>\n",
      "<a href=\"/w/index.php?title=%E3%82%B7%E3%83%A7%E3%83%BC%E3%82%B7%E3%83%A3%E3%83%B3%E3%82%AF%E3%81%AE%E7%A9%BA%E3%81%AB&amp;action=edit&amp;section=2\" title=\"節を編集: キャスト\">編集</a>\n",
      "<span class=\"mw-editsection-bracket\">]</span>\n",
      "<table class=\"wikitable\" style=\"text-align:center\">\n",
      "<tr>\n",
      "<th rowspan=\"2\">役名</th>\n",
      "<th rowspan=\"2\">俳優</th>\n",
      "<th colspan=\"2\">日本語吹き替え</th>\n",
      "</tr>\n",
      "<tr>\n",
      "<th>DVD・BD</th>\n",
      "<th>TBS</th>\n",
      "</tr>\n",
      "<tr>\n",
      "<td>アンドリュー・\"アンディ\"・デュフレーン</td>\n",
      "<td><a href=\"/wiki/%E3%83%86%E3%82%A3%E3%83%A0%E3%83%BB%E3%83%AD%E3%83%93%E3%83%B3%E3%82%B9\" title=\"ティム・ロビンス\">ティム・ロビンス</a></td>\n",
      "<td><a href=\"/wiki/%E5%A4%A7%E5%A1%9A%E8%8A%B3%E5%BF%A0\" title=\"大塚芳忠\">大塚芳忠</a></td>\n",
      "<td><a href=\"/wiki/%E5%AE%89%E5%8E%9F%E7%BE%A9%E4%BA%BA\" title=\"安原義人\">安原義人</a></td>\n",
      "</tr>\n",
      "<tr>\n",
      "<td>エリス・ボイド・\"レッド\"・レディング</td>\n",
      "<td><a href=\"/wiki/%E3%83%A2%E3%83%BC%E3%82%AC%E3%83%B3%E3%83%BB%E3%83%95%E3%83%AA%E3%83%BC%E3%83%9E%E3%83%B3\" title=\"モーガン・フリーマン\">モーガン・フリーマン</a></td>\n",
      "<td><a href=\"/wiki/%E6%B1%A0%E7%94%B0%E5%8B%9D\" title=\"池田勝\">池田勝</a></td>\n",
      "<td><a href=\"/wiki/%E5%9D%82%E5%8F%A3%E8%8A%B3%E8%B2%9E\" title=\"坂口芳貞\">坂口芳貞</a></td>\n",
      "</tr>\n",
      "<tr>\n",
      "<td>サミュエル・ノートン刑務所長</td>\n",
      "<td><a href=\"/wiki/%E3%83%9C%E3%83%96%E3%83%BB%E3%82%AC%E3%83%B3%E3%83%88%E3%83%B3\" title=\"ボブ・ガントン\">ボブ・ガントン</a></td>\n",
      "<td><a href=\"/wiki/%E4%BB%81%E5%86%85%E5%BB%BA%E4%B9%8B\" title=\"仁内建之\">仁内建之</a></td>\n",
      "<td><a href=\"/wiki/%E4%BD%90%E3%80%85%E6%9C%A8%E5%8B%9D%E5%BD%A6\" title=\"佐々木勝彦\">佐々木勝彦</a></td>\n",
      "</tr>\n",
      "<tr>\n",
      "<td>ヘイウッド</td>\n",
      "<td><a href=\"/wiki/%E3%82%A6%E3%82%A3%E3%83%AA%E3%82%A2%E3%83%A0%E3%83%BB%E3%82%B5%E3%83%89%E3%83%A9%E3%83%BC\" title=\"ウィリアム・サドラー\">ウィリアム・サドラー</a></td>\n",
      "<td><a href=\"/wiki/%E6%B1%9F%E5%8E%9F%E6%AD%A3%E5%A3%AB\" title=\"江原正士\">江原正士</a></td>\n",
      "<td rowspan=\"8\"> </td>\n",
      "</tr>\n",
      "<tr>\n",
      "<td>バイロン・ハドリー主任刑務官</td>\n",
      "<td><a href=\"/wiki/%E3%82%AF%E3%83%A9%E3%83%B3%E3%82%B7%E3%83%BC%E3%83%BB%E3%83%96%E3%83%A9%E3%82%A6%E3%83%B3\" title=\"クランシー・ブラウン\">クランシー・ブラウン</a></td>\n",
      "<td><a href=\"/wiki/%E7%94%B0%E4%B8%AD%E6%AD%A3%E5%BD%A6\" title=\"田中正彦\">田中正彦</a></td>\n",
      "</tr>\n",
      "<tr>\n",
      "<td>トミー・ウィリアムズ</td>\n",
      "<td><a href=\"/wiki/%E3%82%AE%E3%83%AB%E3%83%BB%E3%83%99%E3%83%AD%E3%83%BC%E3%82%BA\" title=\"ギル・ベローズ\">ギル・ベローズ</a></td>\n",
      "<td><a href=\"/wiki/%E7%9C%9F%E5%9C%B0%E5%8B%87%E5%BF%97\" title=\"真地勇志\">真地勇志</a></td>\n",
      "</tr>\n",
      "<tr>\n",
      "<td>ボッグズ・ダイアモンド</td>\n",
      "<td><a href=\"/wiki/%E3%83%9E%E3%83%BC%E3%82%AF%E3%83%BB%E3%83%AD%E3%83%AB%E3%82%B9%E3%83%88%E3%83%B3\" title=\"マーク・ロルストン\">マーク・ロルストン</a></td>\n",
      "<td><a href=\"/wiki/%E9%87%91%E5%B0%BE%E5%93%B2%E5%A4%AB\" title=\"金尾哲夫\">金尾哲夫</a></td>\n",
      "</tr>\n",
      "<tr>\n",
      "<td>ブルックス・ヘイトレン</td>\n",
      "<td><a href=\"/wiki/%E3%82%B8%E3%82%A7%E3%83%BC%E3%83%A0%E3%82%BA%E3%83%BB%E3%83%9B%E3%82%A4%E3%83%83%E3%83%88%E3%83%A2%E3%82%A2\" title=\"ジェームズ・ホイットモア\">ジェームズ・ホイットモア</a></td>\n",
      "<td><a href=\"/wiki/%E5%AE%AE%E7%94%B0%E5%85%89\" title=\"宮田光\">宮田光</a></td>\n",
      "</tr>\n",
      "<tr>\n",
      "<td>検察官</td>\n",
      "<td><a href=\"/wiki/%E3%82%B8%E3%82%A7%E3%83%95%E3%83%AA%E3%83%BC%E3%83%BB%E3%83%87%E3%83%9E%E3%83%B3\" title=\"ジェフリー・デマン\">ジェフリー・デマン</a></td>\n",
      "<td><a href=\"/wiki/%E7%B3%B8%E5%8D%9A\" title=\"糸博\">糸博</a></td>\n",
      "</tr>\n",
      "<tr>\n",
      "<td>トラウト</td>\n",
      "<td><a href=\"/wiki/%E3%83%9D%E3%83%BC%E3%83%AB%E3%83%BB%E3%83%9E%E3%82%AF%E3%83%AC%E3%83%BC%E3%83%B3\" title=\"ポール・マクレーン\">ポール・マクレーン</a></td>\n",
      "<td></td>\n",
      "</tr>\n",
      "<tr>\n",
      "<td>マート</td>\n",
      "<td><a href=\"/wiki/%E3%82%B8%E3%83%A5%E3%83%BC%E3%83%89%E3%83%BB%E3%83%81%E3%82%B3%E3%83%AC%E3%83%83%E3%83%A9\" title=\"ジュード・チコレッラ\">ジュード・チコレッラ</a></td>\n",
      "<td></td>\n",
      "</tr>\n",
      "</table>\n",
      "<tr>\n",
      "<th rowspan=\"2\">役名</th>\n",
      "<th rowspan=\"2\">俳優</th>\n",
      "<th colspan=\"2\">日本語吹き替え</th>\n",
      "</tr>\n",
      "<th rowspan=\"2\">役名</th>\n",
      "<th rowspan=\"2\">俳優</th>\n",
      "<th colspan=\"2\">日本語吹き替え</th>\n",
      "<tr>\n",
      "<th>DVD・BD</th>\n",
      "<th>TBS</th>\n",
      "</tr>\n",
      "<th>DVD・BD</th>\n",
      "<th>TBS</th>\n",
      "<tr>\n",
      "<td>アンドリュー・\"アンディ\"・デュフレーン</td>\n",
      "<td><a href=\"/wiki/%E3%83%86%E3%82%A3%E3%83%A0%E3%83%BB%E3%83%AD%E3%83%93%E3%83%B3%E3%82%B9\" title=\"ティム・ロビンス\">ティム・ロビンス</a></td>\n",
      "<td><a href=\"/wiki/%E5%A4%A7%E5%A1%9A%E8%8A%B3%E5%BF%A0\" title=\"大塚芳忠\">大塚芳忠</a></td>\n",
      "<td><a href=\"/wiki/%E5%AE%89%E5%8E%9F%E7%BE%A9%E4%BA%BA\" title=\"安原義人\">安原義人</a></td>\n",
      "</tr>\n",
      "<td>アンドリュー・\"アンディ\"・デュフレーン</td>\n",
      "<td><a href=\"/wiki/%E3%83%86%E3%82%A3%E3%83%A0%E3%83%BB%E3%83%AD%E3%83%93%E3%83%B3%E3%82%B9\" title=\"ティム・ロビンス\">ティム・ロビンス</a></td>\n",
      "<a href=\"/wiki/%E3%83%86%E3%82%A3%E3%83%A0%E3%83%BB%E3%83%AD%E3%83%93%E3%83%B3%E3%82%B9\" title=\"ティム・ロビンス\">ティム・ロビンス</a>\n",
      "<td><a href=\"/wiki/%E5%A4%A7%E5%A1%9A%E8%8A%B3%E5%BF%A0\" title=\"大塚芳忠\">大塚芳忠</a></td>\n",
      "<a href=\"/wiki/%E5%A4%A7%E5%A1%9A%E8%8A%B3%E5%BF%A0\" title=\"大塚芳忠\">大塚芳忠</a>\n",
      "<td><a href=\"/wiki/%E5%AE%89%E5%8E%9F%E7%BE%A9%E4%BA%BA\" title=\"安原義人\">安原義人</a></td>\n",
      "<a href=\"/wiki/%E5%AE%89%E5%8E%9F%E7%BE%A9%E4%BA%BA\" title=\"安原義人\">安原義人</a>\n",
      "<tr>\n",
      "<td>エリス・ボイド・\"レッド\"・レディング</td>\n",
      "<td><a href=\"/wiki/%E3%83%A2%E3%83%BC%E3%82%AC%E3%83%B3%E3%83%BB%E3%83%95%E3%83%AA%E3%83%BC%E3%83%9E%E3%83%B3\" title=\"モーガン・フリーマン\">モーガン・フリーマン</a></td>\n",
      "<td><a href=\"/wiki/%E6%B1%A0%E7%94%B0%E5%8B%9D\" title=\"池田勝\">池田勝</a></td>\n",
      "<td><a href=\"/wiki/%E5%9D%82%E5%8F%A3%E8%8A%B3%E8%B2%9E\" title=\"坂口芳貞\">坂口芳貞</a></td>\n",
      "</tr>\n",
      "<td>エリス・ボイド・\"レッド\"・レディング</td>\n",
      "<td><a href=\"/wiki/%E3%83%A2%E3%83%BC%E3%82%AC%E3%83%B3%E3%83%BB%E3%83%95%E3%83%AA%E3%83%BC%E3%83%9E%E3%83%B3\" title=\"モーガン・フリーマン\">モーガン・フリーマン</a></td>\n",
      "<a href=\"/wiki/%E3%83%A2%E3%83%BC%E3%82%AC%E3%83%B3%E3%83%BB%E3%83%95%E3%83%AA%E3%83%BC%E3%83%9E%E3%83%B3\" title=\"モーガン・フリーマン\">モーガン・フリーマン</a>\n",
      "<td><a href=\"/wiki/%E6%B1%A0%E7%94%B0%E5%8B%9D\" title=\"池田勝\">池田勝</a></td>\n",
      "<a href=\"/wiki/%E6%B1%A0%E7%94%B0%E5%8B%9D\" title=\"池田勝\">池田勝</a>\n",
      "<td><a href=\"/wiki/%E5%9D%82%E5%8F%A3%E8%8A%B3%E8%B2%9E\" title=\"坂口芳貞\">坂口芳貞</a></td>\n",
      "<a href=\"/wiki/%E5%9D%82%E5%8F%A3%E8%8A%B3%E8%B2%9E\" title=\"坂口芳貞\">坂口芳貞</a>\n",
      "<tr>\n",
      "<td>サミュエル・ノートン刑務所長</td>\n",
      "<td><a href=\"/wiki/%E3%83%9C%E3%83%96%E3%83%BB%E3%82%AC%E3%83%B3%E3%83%88%E3%83%B3\" title=\"ボブ・ガントン\">ボブ・ガントン</a></td>\n",
      "<td><a href=\"/wiki/%E4%BB%81%E5%86%85%E5%BB%BA%E4%B9%8B\" title=\"仁内建之\">仁内建之</a></td>\n",
      "<td><a href=\"/wiki/%E4%BD%90%E3%80%85%E6%9C%A8%E5%8B%9D%E5%BD%A6\" title=\"佐々木勝彦\">佐々木勝彦</a></td>\n",
      "</tr>\n",
      "<td>サミュエル・ノートン刑務所長</td>\n",
      "<td><a href=\"/wiki/%E3%83%9C%E3%83%96%E3%83%BB%E3%82%AC%E3%83%B3%E3%83%88%E3%83%B3\" title=\"ボブ・ガントン\">ボブ・ガントン</a></td>\n",
      "<a href=\"/wiki/%E3%83%9C%E3%83%96%E3%83%BB%E3%82%AC%E3%83%B3%E3%83%88%E3%83%B3\" title=\"ボブ・ガントン\">ボブ・ガントン</a>\n",
      "<td><a href=\"/wiki/%E4%BB%81%E5%86%85%E5%BB%BA%E4%B9%8B\" title=\"仁内建之\">仁内建之</a></td>\n",
      "<a href=\"/wiki/%E4%BB%81%E5%86%85%E5%BB%BA%E4%B9%8B\" title=\"仁内建之\">仁内建之</a>\n",
      "<td><a href=\"/wiki/%E4%BD%90%E3%80%85%E6%9C%A8%E5%8B%9D%E5%BD%A6\" title=\"佐々木勝彦\">佐々木勝彦</a></td>\n",
      "<a href=\"/wiki/%E4%BD%90%E3%80%85%E6%9C%A8%E5%8B%9D%E5%BD%A6\" title=\"佐々木勝彦\">佐々木勝彦</a>\n",
      "<tr>\n",
      "<td>ヘイウッド</td>\n",
      "<td><a href=\"/wiki/%E3%82%A6%E3%82%A3%E3%83%AA%E3%82%A2%E3%83%A0%E3%83%BB%E3%82%B5%E3%83%89%E3%83%A9%E3%83%BC\" title=\"ウィリアム・サドラー\">ウィリアム・サドラー</a></td>\n",
      "<td><a href=\"/wiki/%E6%B1%9F%E5%8E%9F%E6%AD%A3%E5%A3%AB\" title=\"江原正士\">江原正士</a></td>\n",
      "<td rowspan=\"8\"> </td>\n",
      "</tr>\n",
      "<td>ヘイウッド</td>\n",
      "<td><a href=\"/wiki/%E3%82%A6%E3%82%A3%E3%83%AA%E3%82%A2%E3%83%A0%E3%83%BB%E3%82%B5%E3%83%89%E3%83%A9%E3%83%BC\" title=\"ウィリアム・サドラー\">ウィリアム・サドラー</a></td>\n",
      "<a href=\"/wiki/%E3%82%A6%E3%82%A3%E3%83%AA%E3%82%A2%E3%83%A0%E3%83%BB%E3%82%B5%E3%83%89%E3%83%A9%E3%83%BC\" title=\"ウィリアム・サドラー\">ウィリアム・サドラー</a>\n",
      "<td><a href=\"/wiki/%E6%B1%9F%E5%8E%9F%E6%AD%A3%E5%A3%AB\" title=\"江原正士\">江原正士</a></td>\n",
      "<a href=\"/wiki/%E6%B1%9F%E5%8E%9F%E6%AD%A3%E5%A3%AB\" title=\"江原正士\">江原正士</a>\n",
      "<td rowspan=\"8\"> </td>\n",
      "<tr>\n",
      "<td>バイロン・ハドリー主任刑務官</td>\n",
      "<td><a href=\"/wiki/%E3%82%AF%E3%83%A9%E3%83%B3%E3%82%B7%E3%83%BC%E3%83%BB%E3%83%96%E3%83%A9%E3%82%A6%E3%83%B3\" title=\"クランシー・ブラウン\">クランシー・ブラウン</a></td>\n",
      "<td><a href=\"/wiki/%E7%94%B0%E4%B8%AD%E6%AD%A3%E5%BD%A6\" title=\"田中正彦\">田中正彦</a></td>\n",
      "</tr>\n",
      "<td>バイロン・ハドリー主任刑務官</td>\n",
      "<td><a href=\"/wiki/%E3%82%AF%E3%83%A9%E3%83%B3%E3%82%B7%E3%83%BC%E3%83%BB%E3%83%96%E3%83%A9%E3%82%A6%E3%83%B3\" title=\"クランシー・ブラウン\">クランシー・ブラウン</a></td>\n",
      "<a href=\"/wiki/%E3%82%AF%E3%83%A9%E3%83%B3%E3%82%B7%E3%83%BC%E3%83%BB%E3%83%96%E3%83%A9%E3%82%A6%E3%83%B3\" title=\"クランシー・ブラウン\">クランシー・ブラウン</a>\n",
      "<td><a href=\"/wiki/%E7%94%B0%E4%B8%AD%E6%AD%A3%E5%BD%A6\" title=\"田中正彦\">田中正彦</a></td>\n",
      "<a href=\"/wiki/%E7%94%B0%E4%B8%AD%E6%AD%A3%E5%BD%A6\" title=\"田中正彦\">田中正彦</a>\n",
      "<tr>\n",
      "<td>トミー・ウィリアムズ</td>\n",
      "<td><a href=\"/wiki/%E3%82%AE%E3%83%AB%E3%83%BB%E3%83%99%E3%83%AD%E3%83%BC%E3%82%BA\" title=\"ギル・ベローズ\">ギル・ベローズ</a></td>\n",
      "<td><a href=\"/wiki/%E7%9C%9F%E5%9C%B0%E5%8B%87%E5%BF%97\" title=\"真地勇志\">真地勇志</a></td>\n",
      "</tr>\n",
      "<td>トミー・ウィリアムズ</td>\n",
      "<td><a href=\"/wiki/%E3%82%AE%E3%83%AB%E3%83%BB%E3%83%99%E3%83%AD%E3%83%BC%E3%82%BA\" title=\"ギル・ベローズ\">ギル・ベローズ</a></td>\n",
      "<a href=\"/wiki/%E3%82%AE%E3%83%AB%E3%83%BB%E3%83%99%E3%83%AD%E3%83%BC%E3%82%BA\" title=\"ギル・ベローズ\">ギル・ベローズ</a>\n",
      "<td><a href=\"/wiki/%E7%9C%9F%E5%9C%B0%E5%8B%87%E5%BF%97\" title=\"真地勇志\">真地勇志</a></td>\n",
      "<a href=\"/wiki/%E7%9C%9F%E5%9C%B0%E5%8B%87%E5%BF%97\" title=\"真地勇志\">真地勇志</a>\n",
      "<tr>\n",
      "<td>ボッグズ・ダイアモンド</td>\n",
      "<td><a href=\"/wiki/%E3%83%9E%E3%83%BC%E3%82%AF%E3%83%BB%E3%83%AD%E3%83%AB%E3%82%B9%E3%83%88%E3%83%B3\" title=\"マーク・ロルストン\">マーク・ロルストン</a></td>\n",
      "<td><a href=\"/wiki/%E9%87%91%E5%B0%BE%E5%93%B2%E5%A4%AB\" title=\"金尾哲夫\">金尾哲夫</a></td>\n",
      "</tr>\n",
      "<td>ボッグズ・ダイアモンド</td>\n",
      "<td><a href=\"/wiki/%E3%83%9E%E3%83%BC%E3%82%AF%E3%83%BB%E3%83%AD%E3%83%AB%E3%82%B9%E3%83%88%E3%83%B3\" title=\"マーク・ロルストン\">マーク・ロルストン</a></td>\n",
      "<a href=\"/wiki/%E3%83%9E%E3%83%BC%E3%82%AF%E3%83%BB%E3%83%AD%E3%83%AB%E3%82%B9%E3%83%88%E3%83%B3\" title=\"マーク・ロルストン\">マーク・ロルストン</a>\n",
      "<td><a href=\"/wiki/%E9%87%91%E5%B0%BE%E5%93%B2%E5%A4%AB\" title=\"金尾哲夫\">金尾哲夫</a></td>\n",
      "<a href=\"/wiki/%E9%87%91%E5%B0%BE%E5%93%B2%E5%A4%AB\" title=\"金尾哲夫\">金尾哲夫</a>\n",
      "<tr>\n",
      "<td>ブルックス・ヘイトレン</td>\n",
      "<td><a href=\"/wiki/%E3%82%B8%E3%82%A7%E3%83%BC%E3%83%A0%E3%82%BA%E3%83%BB%E3%83%9B%E3%82%A4%E3%83%83%E3%83%88%E3%83%A2%E3%82%A2\" title=\"ジェームズ・ホイットモア\">ジェームズ・ホイットモア</a></td>\n",
      "<td><a href=\"/wiki/%E5%AE%AE%E7%94%B0%E5%85%89\" title=\"宮田光\">宮田光</a></td>\n",
      "</tr>\n",
      "<td>ブルックス・ヘイトレン</td>\n",
      "<td><a href=\"/wiki/%E3%82%B8%E3%82%A7%E3%83%BC%E3%83%A0%E3%82%BA%E3%83%BB%E3%83%9B%E3%82%A4%E3%83%83%E3%83%88%E3%83%A2%E3%82%A2\" title=\"ジェームズ・ホイットモア\">ジェームズ・ホイットモア</a></td>\n",
      "<a href=\"/wiki/%E3%82%B8%E3%82%A7%E3%83%BC%E3%83%A0%E3%82%BA%E3%83%BB%E3%83%9B%E3%82%A4%E3%83%83%E3%83%88%E3%83%A2%E3%82%A2\" title=\"ジェームズ・ホイットモア\">ジェームズ・ホイットモア</a>\n",
      "<td><a href=\"/wiki/%E5%AE%AE%E7%94%B0%E5%85%89\" title=\"宮田光\">宮田光</a></td>\n",
      "<a href=\"/wiki/%E5%AE%AE%E7%94%B0%E5%85%89\" title=\"宮田光\">宮田光</a>\n",
      "<tr>\n",
      "<td>検察官</td>\n",
      "<td><a href=\"/wiki/%E3%82%B8%E3%82%A7%E3%83%95%E3%83%AA%E3%83%BC%E3%83%BB%E3%83%87%E3%83%9E%E3%83%B3\" title=\"ジェフリー・デマン\">ジェフリー・デマン</a></td>\n",
      "<td><a href=\"/wiki/%E7%B3%B8%E5%8D%9A\" title=\"糸博\">糸博</a></td>\n",
      "</tr>\n",
      "<td>検察官</td>\n",
      "<td><a href=\"/wiki/%E3%82%B8%E3%82%A7%E3%83%95%E3%83%AA%E3%83%BC%E3%83%BB%E3%83%87%E3%83%9E%E3%83%B3\" title=\"ジェフリー・デマン\">ジェフリー・デマン</a></td>\n",
      "<a href=\"/wiki/%E3%82%B8%E3%82%A7%E3%83%95%E3%83%AA%E3%83%BC%E3%83%BB%E3%83%87%E3%83%9E%E3%83%B3\" title=\"ジェフリー・デマン\">ジェフリー・デマン</a>\n",
      "<td><a href=\"/wiki/%E7%B3%B8%E5%8D%9A\" title=\"糸博\">糸博</a></td>\n",
      "<a href=\"/wiki/%E7%B3%B8%E5%8D%9A\" title=\"糸博\">糸博</a>\n",
      "<tr>\n",
      "<td>トラウト</td>\n",
      "<td><a href=\"/wiki/%E3%83%9D%E3%83%BC%E3%83%AB%E3%83%BB%E3%83%9E%E3%82%AF%E3%83%AC%E3%83%BC%E3%83%B3\" title=\"ポール・マクレーン\">ポール・マクレーン</a></td>\n",
      "<td></td>\n",
      "</tr>\n",
      "<td>トラウト</td>\n",
      "<td><a href=\"/wiki/%E3%83%9D%E3%83%BC%E3%83%AB%E3%83%BB%E3%83%9E%E3%82%AF%E3%83%AC%E3%83%BC%E3%83%B3\" title=\"ポール・マクレーン\">ポール・マクレーン</a></td>\n",
      "<a href=\"/wiki/%E3%83%9D%E3%83%BC%E3%83%AB%E3%83%BB%E3%83%9E%E3%82%AF%E3%83%AC%E3%83%BC%E3%83%B3\" title=\"ポール・マクレーン\">ポール・マクレーン</a>\n",
      "<td></td>\n",
      "<tr>\n",
      "<td>マート</td>\n",
      "<td><a href=\"/wiki/%E3%82%B8%E3%83%A5%E3%83%BC%E3%83%89%E3%83%BB%E3%83%81%E3%82%B3%E3%83%AC%E3%83%83%E3%83%A9\" title=\"ジュード・チコレッラ\">ジュード・チコレッラ</a></td>\n",
      "<td></td>\n",
      "</tr>\n",
      "<td>マート</td>\n",
      "<td><a href=\"/wiki/%E3%82%B8%E3%83%A5%E3%83%BC%E3%83%89%E3%83%BB%E3%83%81%E3%82%B3%E3%83%AC%E3%83%83%E3%83%A9\" title=\"ジュード・チコレッラ\">ジュード・チコレッラ</a></td>\n",
      "<a href=\"/wiki/%E3%82%B8%E3%83%A5%E3%83%BC%E3%83%89%E3%83%BB%E3%83%81%E3%82%B3%E3%83%AC%E3%83%83%E3%83%A9\" title=\"ジュード・チコレッラ\">ジュード・チコレッラ</a>\n",
      "<td></td>\n",
      "<ul>\n",
      "<li>TBS版吹き替え：初回放送 <a href=\"/wiki/1997%E5%B9%B4\" title=\"1997年\">1997年</a><a href=\"/wiki/3%E6%9C%8830%E6%97%A5\" title=\"3月30日\">3月30日</a>「春の映画スペシャル」 14:00-16:54</li>\n",
      "</ul>\n",
      "<li>TBS版吹き替え：初回放送 <a href=\"/wiki/1997%E5%B9%B4\" title=\"1997年\">1997年</a><a href=\"/wiki/3%E6%9C%8830%E6%97%A5\" title=\"3月30日\">3月30日</a>「春の映画スペシャル」 14:00-16:54</li>\n",
      "<a href=\"/wiki/1997%E5%B9%B4\" title=\"1997年\">1997年</a>\n",
      "<a href=\"/wiki/3%E6%9C%8830%E6%97%A5\" title=\"3月30日\">3月30日</a>\n",
      "<h2><span class=\"mw-headline\" id=\".E3.82.B9.E3.82.BF.E3.83.83.E3.83.95\">スタッフ</span><span class=\"mw-editsection\"><span class=\"mw-editsection-bracket\">[</span><a href=\"/w/index.php?title=%E3%82%B7%E3%83%A7%E3%83%BC%E3%82%B7%E3%83%A3%E3%83%B3%E3%82%AF%E3%81%AE%E7%A9%BA%E3%81%AB&amp;action=edit&amp;section=3\" title=\"節を編集: スタッフ\">編集</a><span class=\"mw-editsection-bracket\">]</span></span></h2>\n"
     ]
    }
   ],
   "source": [
    "print(data)"
   ]
  },
  {
   "cell_type": "code",
   "execution_count": null,
   "metadata": {
    "collapsed": true
   },
   "outputs": [],
   "source": []
  }
 ],
 "metadata": {
  "kernelspec": {
   "display_name": "Python 3",
   "language": "python",
   "name": "python3"
  },
  "language_info": {
   "codemirror_mode": {
    "name": "ipython",
    "version": 3
   },
   "file_extension": ".py",
   "mimetype": "text/x-python",
   "name": "python",
   "nbconvert_exporter": "python",
   "pygments_lexer": "ipython3",
   "version": "3.5.1"
  },
  "widgets": {
   "state": {},
   "version": "1.1.2"
  }
 },
 "nbformat": 4,
 "nbformat_minor": 0
}
